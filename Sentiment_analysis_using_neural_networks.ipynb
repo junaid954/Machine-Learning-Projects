{
 "cells": [
  {
   "cell_type": "markdown",
   "metadata": {},
   "source": [
    "**Classfying Movie Reviews**\n",
    "\n",
    "Binary classification of IMDB dataset\n",
    "\n",
    "inputs 5O,OOO reviews\n",
    "\n",
    "output : positive and negative"
   ]
  },
  {
   "cell_type": "code",
   "execution_count": 1,
   "metadata": {},
   "outputs": [
    {
     "name": "stderr",
     "output_type": "stream",
     "text": [
      "Using TensorFlow backend.\n"
     ]
    }
   ],
   "source": [
    "import tensorflow as tf\n",
    "from keras.datasets import imdb"
   ]
  },
  {
   "cell_type": "markdown",
   "metadata": {},
   "source": [
    "#### Data Prepration \n",
    "\n",
    "XT = Training data \n",
    "\n",
    "Xt = testing data"
   ]
  },
  {
   "cell_type": "code",
   "execution_count": 2,
   "metadata": {},
   "outputs": [],
   "source": [
    "(XT,YT),(Xt,Yt) = imdb.load_data(num_words=10000)"
   ]
  },
  {
   "cell_type": "code",
   "execution_count": 3,
   "metadata": {},
   "outputs": [
    {
     "data": {
      "text/plain": [
       "(25000, 25000)"
      ]
     },
     "execution_count": 3,
     "metadata": {},
     "output_type": "execute_result"
    }
   ],
   "source": [
    "len(XT),len(YT)"
   ]
  },
  {
   "cell_type": "code",
   "execution_count": 4,
   "metadata": {},
   "outputs": [
    {
     "name": "stdout",
     "output_type": "stream",
     "text": [
      "[1, 14, 22, 16, 43, 530, 973, 1622, 1385, 65, 458, 4468, 66, 3941, 4, 173, 36, 256, 5, 25, 100, 43, 838, 112, 50, 670, 2, 9, 35, 480, 284, 5, 150, 4, 172, 112, 167, 2, 336, 385, 39, 4, 172, 4536, 1111, 17, 546, 38, 13, 447, 4, 192, 50, 16, 6, 147, 2025, 19, 14, 22, 4, 1920, 4613, 469, 4, 22, 71, 87, 12, 16, 43, 530, 38, 76, 15, 13, 1247, 4, 22, 17, 515, 17, 12, 16, 626, 18, 2, 5, 62, 386, 12, 8, 316, 8, 106, 5, 4, 2223, 5244, 16, 480, 66, 3785, 33, 4, 130, 12, 16, 38, 619, 5, 25, 124, 51, 36, 135, 48, 25, 1415, 33, 6, 22, 12, 215, 28, 77, 52, 5, 14, 407, 16, 82, 2, 8, 4, 107, 117, 5952, 15, 256, 4, 2, 7, 3766, 5, 723, 36, 71, 43, 530, 476, 26, 400, 317, 46, 7, 4, 2, 1029, 13, 104, 88, 4, 381, 15, 297, 98, 32, 2071, 56, 26, 141, 6, 194, 7486, 18, 4, 226, 22, 21, 134, 476, 26, 480, 5, 144, 30, 5535, 18, 51, 36, 28, 224, 92, 25, 104, 4, 226, 65, 16, 38, 1334, 88, 12, 16, 283, 5, 16, 4472, 113, 103, 32, 15, 16, 5345, 19, 178, 32]\n"
     ]
    }
   ],
   "source": [
    "print(XT[0])"
   ]
  },
  {
   "cell_type": "code",
   "execution_count": 5,
   "metadata": {},
   "outputs": [],
   "source": [
    "word_index=imdb.get_word_index()"
   ]
  },
  {
   "cell_type": "code",
   "execution_count": 6,
   "metadata": {},
   "outputs": [],
   "source": [
    "#print(word_index.items())"
   ]
  },
  {
   "cell_type": "markdown",
   "metadata": {},
   "source": [
    "To see what actually the review is we will create a reverse dictionary which maps the index with words , for that we use the dictionary constructor and use the list comprehension and we iterate over all of the above and make keys as values and values as keys so that we get a reverse lookup table"
   ]
  },
  {
   "cell_type": "code",
   "execution_count": 7,
   "metadata": {},
   "outputs": [],
   "source": [
    "index_word = dict([value,keys] for (keys,value) in (word_index.items()))"
   ]
  },
  {
   "cell_type": "code",
   "execution_count": 8,
   "metadata": {},
   "outputs": [],
   "source": [
    "#print(index_word.items())"
   ]
  },
  {
   "cell_type": "markdown",
   "metadata": {},
   "source": [
    "The index that we are going to pass is index - 3  because when the vocab is created it also adds 3 words to it by default (pad word , start of sentence and the unknown word  therefore the index is shifted by 3 positions --- the get method is a method in dictionary which will return a hash if there is nothing corresponding to that index else it will return the value of that index \n",
    " "
   ]
  },
  {
   "cell_type": "code",
   "execution_count": 9,
   "metadata": {},
   "outputs": [],
   "source": [
    "actual_review = ' '.join([index_word.get(index-3,\"_\")for index in XT[15]])"
   ]
  },
  {
   "cell_type": "code",
   "execution_count": 10,
   "metadata": {},
   "outputs": [
    {
     "data": {
      "text/plain": [
       "\"_ a total waste of time just throw in a few explosions non stop fighting exotic cars a deranged millionaire slow motion computer generated car crashes and last but not least a hugh _ like character with wall to wall hot babes and mix in a _ and you will have this sorry excuse for a movie i really got a laugh out of the dr evil like heavily _ compound the plot was somewhere between preposterous and non existent how many _ are willing to make a 25 million dollar bet on a car race answer 4 but didn't they become _ through _ responsibility this was written for _ males it plays like a video game i did enjoy the _ ii landing in the desert though\""
      ]
     },
     "execution_count": 10,
     "metadata": {},
     "output_type": "execute_result"
    }
   ],
   "source": [
    "actual_review"
   ]
  },
  {
   "cell_type": "markdown",
   "metadata": {},
   "source": [
    "#### In the next step we will vectorize the data\n",
    "\n",
    "Since the vocab size is 10,000 we will make sure that every sentence is represented by a vector of length 10,000 (it would be a collection of 0's and 1's) (000100111010011.....)\n",
    "\n",
    "so the ith index will be set to 1 if there is a word in the sentence for that index otherwise it will be set to 0\n",
    "\n",
    "now we will define a method which will accepts a list of sequences and makes a matrix out of them"
   ]
  },
  {
   "cell_type": "code",
   "execution_count": 11,
   "metadata": {},
   "outputs": [],
   "source": [
    "import numpy as np \n",
    "\n",
    "def vectorize_sentence(sentences,dim=10000):\n",
    "    outputs = np.zeros((len(sentences), dim))\n",
    "    \n",
    "    for i, index in  enumerate (sentences):\n",
    "        outputs [i, index] = 1\n",
    "        \n",
    "    return outputs\n",
    "    "
   ]
  },
  {
   "cell_type": "code",
   "execution_count": 12,
   "metadata": {},
   "outputs": [],
   "source": [
    "X_train = vectorize_sentence(XT)\n",
    "X_test = vectorize_sentence(Xt)"
   ]
  },
  {
   "cell_type": "code",
   "execution_count": 13,
   "metadata": {},
   "outputs": [
    {
     "data": {
      "text/plain": [
       "array([0., 1., 1., ..., 0., 0., 0.])"
      ]
     },
     "execution_count": 13,
     "metadata": {},
     "output_type": "execute_result"
    }
   ],
   "source": [
    "X_train[0]"
   ]
  },
  {
   "cell_type": "code",
   "execution_count": 14,
   "metadata": {},
   "outputs": [
    {
     "data": {
      "text/plain": [
       "array([1, 0, 0, ..., 0, 1, 0], dtype=int64)"
      ]
     },
     "execution_count": 14,
     "metadata": {},
     "output_type": "execute_result"
    }
   ],
   "source": [
    "YT"
   ]
  },
  {
   "cell_type": "code",
   "execution_count": 15,
   "metadata": {},
   "outputs": [],
   "source": [
    "Y_train = np.asarray(YT).astype(\"float32\")\n",
    "Y_test = np.asarray(Yt).astype(\"float32\")"
   ]
  },
  {
   "cell_type": "code",
   "execution_count": 16,
   "metadata": {},
   "outputs": [
    {
     "data": {
      "text/plain": [
       "array([1., 0., 0., ..., 0., 1., 0.], dtype=float32)"
      ]
     },
     "execution_count": 16,
     "metadata": {},
     "output_type": "execute_result"
    }
   ],
   "source": [
    "Y_train"
   ]
  },
  {
   "cell_type": "markdown",
   "metadata": {},
   "source": [
    "#### Build a network\n",
    "\n",
    "Use fully connected /Dense layers with Relu activation\n",
    "2 hidden layers with 16 unit each\n",
    "1 output layer with 1 unit (Sigmoid Activation )\n",
    "We have input data which is vectorized which will go through first dense layer containing 16 neurons and then through the second layer which contains 16 neurons and finally we will have the output with 1 unit with the sigmoid activation which will give us the probabilities in the range 0 and 1"
   ]
  },
  {
   "cell_type": "code",
   "execution_count": 84,
   "metadata": {},
   "outputs": [],
   "source": [
    "from keras import models\n",
    "from keras.layers import Dense"
   ]
  },
  {
   "cell_type": "code",
   "execution_count": 85,
   "metadata": {},
   "outputs": [],
   "source": [
    "model = models.Sequential()\n",
    "model.add(Dense(16, activation = \"relu\", input_shape=(10000,)))\n",
    "model.add(Dense(16,activation = \"relu\"))\n",
    "model.add(Dense(1, activation = \"sigmoid\"))"
   ]
  },
  {
   "cell_type": "markdown",
   "metadata": {},
   "source": [
    "#### Compile the model\n",
    "\n",
    "we have to specify the optimizer which is like the gradient descent and is used to update the weights\n",
    "\n",
    "we also have to specify the loss\n",
    "\n",
    "and the matrix to compare our performance for that we use the accuracy matrices"
   ]
  },
  {
   "cell_type": "code",
   "execution_count": 86,
   "metadata": {},
   "outputs": [],
   "source": [
    "model.compile(optimizer=\"adam\",loss=\"binary_crossentropy\",metrics= [\"accuracy\"])\n"
   ]
  },
  {
   "cell_type": "code",
   "execution_count": 87,
   "metadata": {},
   "outputs": [
    {
     "name": "stdout",
     "output_type": "stream",
     "text": [
      "Model: \"sequential_6\"\n",
      "_________________________________________________________________\n",
      "Layer (type)                 Output Shape              Param #   \n",
      "=================================================================\n",
      "dense_16 (Dense)             (None, 16)                160016    \n",
      "_________________________________________________________________\n",
      "dense_17 (Dense)             (None, 16)                272       \n",
      "_________________________________________________________________\n",
      "dense_18 (Dense)             (None, 1)                 17        \n",
      "=================================================================\n",
      "Total params: 160,305\n",
      "Trainable params: 160,305\n",
      "Non-trainable params: 0\n",
      "_________________________________________________________________\n"
     ]
    }
   ],
   "source": [
    "model.summary()"
   ]
  },
  {
   "cell_type": "markdown",
   "metadata": {},
   "source": [
    "### Training and Validation\n",
    "\n",
    "since the model has more number of parametere than the number of examples that we have in the training set, so model may overfit, in order to avoid overfit we need to have a validation set\n",
    "\n",
    "so in total if we have 50k examples and out of those 50k examples we have just 25k in the training set so let's keep 5k examples as the validation set\n",
    "\n",
    "so we are going to train over 20k examples and see the accuracy in the 5k validation set\n",
    "\n",
    "When we see the graph we might see that the accuracy in the trianing set will increase continuously but the accuracy of the validation set starts to drop after a certain point so that is the point where we should stop our training because after this point the model tries to learn the examples, it tries to overfit which is not a good generalization and this is called early stopping\n",
    "\n",
    "one way is whenever there is an increase in the validation accuracy we save our model the other way is to figure out the right number of iterations that we should do so that our model does not overfit\n",
    "\n",
    "X_val will be a subset of our training set so we can take the first 5k examples"
   ]
  },
  {
   "cell_type": "code",
   "execution_count": 88,
   "metadata": {},
   "outputs": [],
   "source": [
    "x_val = X_train[:5000]\n",
    "x_train_new = X_train[5000:]\n",
    "\n",
    "y_val = Y_train[:5000]\n",
    "y_train_new = Y_train[5000:]"
   ]
  },
  {
   "cell_type": "code",
   "execution_count": 89,
   "metadata": {},
   "outputs": [
    {
     "name": "stdout",
     "output_type": "stream",
     "text": [
      "Train on 20000 samples, validate on 5000 samples\n",
      "Epoch 1/3\n",
      "20000/20000 [==============================] - 4s 186us/step - loss: 0.5624 - accuracy: 0.7839 - val_loss: 0.4189 - val_accuracy: 0.8618\n",
      "Epoch 2/3\n",
      "20000/20000 [==============================] - 3s 158us/step - loss: 0.3249 - accuracy: 0.8944 - val_loss: 0.3028 - val_accuracy: 0.8860\n",
      "Epoch 3/3\n",
      "20000/20000 [==============================] - 3s 154us/step - loss: 0.2246 - accuracy: 0.9261 - val_loss: 0.2743 - val_accuracy: 0.8936\n"
     ]
    }
   ],
   "source": [
    "hist=model.fit(x_train_new,y_train_new,epochs=3,batch_size=512,validation_data=(x_val,y_val))"
   ]
  },
  {
   "cell_type": "code",
   "execution_count": 90,
   "metadata": {},
   "outputs": [],
   "source": [
    "import matplotlib.pyplot as plt"
   ]
  },
  {
   "cell_type": "code",
   "execution_count": 91,
   "metadata": {},
   "outputs": [],
   "source": [
    "h = hist.history "
   ]
  },
  {
   "cell_type": "markdown",
   "metadata": {},
   "source": [
    " hist is an object that contains one dictionary  by the name history which contains key acc, loss, validation_loss, accuracy_loss"
   ]
  },
  {
   "cell_type": "markdown",
   "metadata": {},
   "source": [
    "### For 20 Epochs"
   ]
  },
  {
   "cell_type": "code",
   "execution_count": 80,
   "metadata": {},
   "outputs": [
    {
     "data": {
      "image/png": "[encoded data removed]",
      "text/plain": [
       "<Figure size 576x396 with 1 Axes>"
      ]
     },
     "metadata": {},
     "output_type": "display_data"
    }
   ],
   "source": [
    "plt.style.use(\"fivethirtyeight\")\n",
    "plt.plot(h[\"val_loss\"], label = \"Validation Loss\")\n",
    "plt.plot(h[\"loss\"], label = \"Training Loss\")\n",
    "plt.xlabel(\"Epochs\")\n",
    "plt.ylabel(\"Loss\")\n",
    "plt.legend()\n",
    "plt.show()"
   ]
  },
  {
   "cell_type": "markdown",
   "metadata": {},
   "source": [
    "The validation loss decreased for few epochs and increased after that, which means that we are doing overfitting"
   ]
  },
  {
   "cell_type": "code",
   "execution_count": 81,
   "metadata": {},
   "outputs": [
    {
     "data": {
      "image/png": "[encoded data removed]",
      "text/plain": [
       "<Figure size 576x396 with 1 Axes>"
      ]
     },
     "metadata": {},
     "output_type": "display_data"
    }
   ],
   "source": [
    "plt.style.use(\"fivethirtyeight\")\n",
    "plt.plot(h[\"val_accuracy\"], label = \"Validation Accuracy\")\n",
    "plt.plot(h[\"accuracy\"], label = \"Training Accuracy\")\n",
    "plt.xlabel(\"Epochs\")\n",
    "plt.ylabel(\"Accuracy\")\n",
    "plt.legend()\n",
    "plt.show()"
   ]
  },
  {
   "cell_type": "markdown",
   "metadata": {},
   "source": [
    "The validation accuracy is maximum at around 3 epochs after that it is decreasing. The training accuracy is almost 100 percent and validation accuracy  is close to 90% , so ideally we should stop our algorithm after 2 or 3 epochs (it is called early stopping)  so we will stop at 3 epochs because here epochs start from 0    "
   ]
  },
  {
   "cell_type": "code",
   "execution_count": 82,
   "metadata": {},
   "outputs": [
    {
     "name": "stdout",
     "output_type": "stream",
     "text": [
      "25000/25000 [==============================] - 2s 97us/step\n"
     ]
    },
    {
     "data": {
      "text/plain": [
       "0.9734799861907959"
      ]
     },
     "execution_count": 82,
     "metadata": {},
     "output_type": "execute_result"
    }
   ],
   "source": [
    "model.evaluate(X_train,Y_train)[1]"
   ]
  },
  {
   "cell_type": "code",
   "execution_count": 83,
   "metadata": {},
   "outputs": [
    {
     "name": "stdout",
     "output_type": "stream",
     "text": [
      "25000/25000 [==============================] - 3s 116us/step\n"
     ]
    },
    {
     "data": {
      "text/plain": [
       "0.8527600169181824"
      ]
     },
     "execution_count": 83,
     "metadata": {},
     "output_type": "execute_result"
    }
   ],
   "source": [
    "model.evaluate(X_test,Y_test)[1]"
   ]
  },
  {
   "cell_type": "markdown",
   "metadata": {},
   "source": [
    "### For 3 Epochs"
   ]
  },
  {
   "cell_type": "code",
   "execution_count": 92,
   "metadata": {},
   "outputs": [
    {
     "data": {
      "image/png": "[encoded data removed]",
      "text/plain": [
       "<Figure size 576x396 with 1 Axes>"
      ]
     },
     "metadata": {},
     "output_type": "display_data"
    }
   ],
   "source": [
    "plt.style.use(\"fivethirtyeight\")\n",
    "plt.plot(h[\"val_loss\"], label = \"Validation Loss\")\n",
    "plt.plot(h[\"loss\"], label = \"Training Loss\")\n",
    "plt.xlabel(\"Epochs\")\n",
    "plt.ylabel(\"Loss\")\n",
    "plt.legend()\n",
    "plt.show()"
   ]
  },
  {
   "cell_type": "code",
   "execution_count": 93,
   "metadata": {},
   "outputs": [
    {
     "data": {
      "image/png": "[encoded data removed]",
      "text/plain": [
       "<Figure size 576x396 with 1 Axes>"
      ]
     },
     "metadata": {},
     "output_type": "display_data"
    }
   ],
   "source": [
    "plt.style.use(\"fivethirtyeight\")\n",
    "plt.plot(h[\"val_accuracy\"], label = \"Validation Accuracy\")\n",
    "plt.plot(h[\"accuracy\"], label = \"Training Accuracy\")\n",
    "plt.xlabel(\"Epochs\")\n",
    "plt.ylabel(\"Accuracy\")\n",
    "plt.legend()\n",
    "plt.show()"
   ]
  },
  {
   "cell_type": "code",
   "execution_count": 94,
   "metadata": {},
   "outputs": [
    {
     "name": "stdout",
     "output_type": "stream",
     "text": [
      "25000/25000 [==============================] - 3s 103us/step\n"
     ]
    },
    {
     "data": {
      "text/plain": [
       "0.9345999956130981"
      ]
     },
     "execution_count": 94,
     "metadata": {},
     "output_type": "execute_result"
    }
   ],
   "source": [
    "model.evaluate(X_train,Y_train)[1]"
   ]
  },
  {
   "cell_type": "code",
   "execution_count": 95,
   "metadata": {},
   "outputs": [
    {
     "name": "stdout",
     "output_type": "stream",
     "text": [
      "25000/25000 [==============================] - 3s 101us/step\n"
     ]
    },
    {
     "data": {
      "text/plain": [
       "0.8853600025177002"
      ]
     },
     "execution_count": 95,
     "metadata": {},
     "output_type": "execute_result"
    }
   ],
   "source": [
    "model.evaluate(X_test,Y_test)[1]"
   ]
  },
  {
   "cell_type": "markdown",
   "metadata": {},
   "source": [
    "##### SO, the accuracy of the Sentiment analysis is 88%"
   ]
  },
  {
   "cell_type": "code",
   "execution_count": 28,
   "metadata": {},
   "outputs": [
    {
     "data": {
      "text/plain": [
       "{'val_loss': [0.40567239689826967,\n",
       "  0.28633559184074403,\n",
       "  0.2731936280250549,\n",
       "  0.2839574966430664,\n",
       "  0.3017891109466553,\n",
       "  0.3272358145236969,\n",
       "  0.3544104646205902,\n",
       "  0.38246795358657837,\n",
       "  0.41550102500915526,\n",
       "  0.44687506365776064,\n",
       "  0.47754859533309935,\n",
       "  0.5104814436912537,\n",
       "  0.537266846370697,\n",
       "  0.5593465650558471,\n",
       "  0.597886037158966,\n",
       "  0.6115595079421997,\n",
       "  0.6389712580680847,\n",
       "  0.6592774286270141,\n",
       "  0.6766213706970214,\n",
       "  0.6914048450469971],\n",
       " 'val_accuracy': [0.8722000122070312,\n",
       "  0.8931999802589417,\n",
       "  0.8912000060081482,\n",
       "  0.8907999992370605,\n",
       "  0.8877999782562256,\n",
       "  0.8831999897956848,\n",
       "  0.8805999755859375,\n",
       "  0.879800021648407,\n",
       "  0.8769999742507935,\n",
       "  0.8744000196456909,\n",
       "  0.8733999729156494,\n",
       "  0.8715999722480774,\n",
       "  0.8694000244140625,\n",
       "  0.8694000244140625,\n",
       "  0.8682000041007996,\n",
       "  0.8676000237464905,\n",
       "  0.8654000163078308,\n",
       "  0.8651999831199646,\n",
       "  0.8658000230789185,\n",
       "  0.8651999831199646],\n",
       " 'loss': [0.558279031085968,\n",
       "  0.29979882872104646,\n",
       "  0.1969336642742157,\n",
       "  0.15108431649208068,\n",
       "  0.11673637264966964,\n",
       "  0.0912768347978592,\n",
       "  0.07369718526005745,\n",
       "  0.05754967315196991,\n",
       "  0.04460009355843067,\n",
       "  0.034460240364074704,\n",
       "  0.028433111122250557,\n",
       "  0.02220936444848776,\n",
       "  0.017331702893972397,\n",
       "  0.01403457446396351,\n",
       "  0.011388224599510431,\n",
       "  0.00880789417847991,\n",
       "  0.0069764970995485785,\n",
       "  0.005723350519873202,\n",
       "  0.00490148903876543,\n",
       "  0.0042806265901774165],\n",
       " 'accuracy': [0.72385,\n",
       "  0.90695,\n",
       "  0.9362,\n",
       "  0.9501,\n",
       "  0.9647,\n",
       "  0.97435,\n",
       "  0.9824,\n",
       "  0.9886,\n",
       "  0.9924,\n",
       "  0.9955,\n",
       "  0.9968,\n",
       "  0.99825,\n",
       "  0.9988,\n",
       "  0.9991,\n",
       "  0.99945,\n",
       "  0.99955,\n",
       "  0.99965,\n",
       "  0.9998,\n",
       "  0.9998,\n",
       "  0.9998]}"
      ]
     },
     "execution_count": 28,
     "metadata": {},
     "output_type": "execute_result"
    }
   ],
   "source": [
    "h"
   ]
  },
  {
   "cell_type": "code",
   "execution_count": null,
   "metadata": {},
   "outputs": [],
   "source": []
  }
 ],
 "metadata": {
  "kernelspec": {
   "display_name": "Python 3",
   "language": "python",
   "name": "python3"
  },
  "language_info": {
   "codemirror_mode": {
    "name": "ipython",
    "version": 3
   },
   "file_extension": ".py",
   "mimetype": "text/x-python",
   "name": "python",
   "nbconvert_exporter": "python",
   "pygments_lexer": "ipython3",
   "version": "3.7.4"
  }
 },
 "nbformat": 4,
 "nbformat_minor": 4
}
